{
 "cells": [
  {
   "cell_type": "code",
   "execution_count": 1,
   "metadata": {},
   "outputs": [],
   "source": [
    "import os\n",
    "import pandas as pd\n",
    "import gc\n",
    "import psutil\n",
    "import warnings\n",
    "from scipy.spatial import distance_matrix\n",
    "warnings.filterwarnings('ignore')"
   ]
  },
  {
   "cell_type": "code",
   "execution_count": 2,
   "metadata": {},
   "outputs": [],
   "source": [
    "def set_df(df):\n",
    "    df.drop(df[df['Operating_Area'] == '9999999999'].index, inplace=True)\n",
    "    df = df.dropna(axis=0).reset_index(drop=True)\n",
    "    df['LAT'] = df['LAT'].astype(float).div(1000000).round(6)\n",
    "    df['LNG'] = df['LNG'].astype(float).div(1000000).round(6)\n",
    "    return df"
   ]
  },
  {
   "cell_type": "code",
   "execution_count": 3,
   "metadata": {},
   "outputs": [],
   "source": [
    "def get_orderby_car_number(df, route, threshold=0.00030):\n",
    "    bus_stops = route[['LNG', 'LAT']].values\n",
    "    coords = df[['LNG', 'LAT']].values\n",
    "    dist_mat = distance_matrix(coords, bus_stops)\n",
    "    min_dist_array = dist_mat.min(axis=1)\n",
    "    df['bus_stop'] = min_dist_array <= threshold\n",
    "    return df[df['bus_stop']][['LNG', 'LAT', 'Information_Occurrence', 'Car_RegistrationNumber']].reset_index(drop=True)"
   ]
  },
  {
   "cell_type": "code",
   "execution_count": 4,
   "metadata": {},
   "outputs": [],
   "source": [
    "def calculate_chunk_size(file_path, memory_limit):\n",
    "    sample = pd.read_csv(file_path, sep='|', header=None, nrows=100, encoding='utf-8')\n",
    "    row_memory = sample.memory_usage(deep=True).sum() / len(sample)\n",
    "    chunk_size = int(memory_limit / row_memory)\n",
    "    return chunk_size\n"
   ]
  },
  {
   "cell_type": "code",
   "execution_count": null,
   "metadata": {},
   "outputs": [],
   "source": [
    "def process_file(file_path, busro, memory_limit, output_folder):\n",
    "    columns = ['Trip_Key', 'Recorder_Model', 'Car_RentalNumber', 'Car_Type', 'Car_RegistrationNumber',\n",
    "               'Carrier_RegistrationNumber', 'Driver_Code', 'Day_Drive', 'Total_Drive', 'Car_Speed',\n",
    "               'Engine_Rotation', 'Break_Signal', 'LNG', 'LAT', 'GIS_Azimuth', 'Acceleration_Vx',\n",
    "               'Acceleration_Vy', 'Status_Code', 'Operating_Area', 'Information_Occurrence']\n",
    "\n",
    "    print(f\"파일 처리 시작: {file_path}\")\n",
    "    chunk_size = calculate_chunk_size(file_path, memory_limit)\n",
    "\n",
    "    os.makedirs(output_folder, exist_ok=True)\n",
    "    output_file_name = os.path.basename(file_path).replace('.gz', '') + '_processed.csv'\n",
    "    output_path = os.path.join(output_folder, output_file_name)\n",
    "\n",
    "    is_first_chunk = True\n",
    "    chunk_num = 1\n",
    "    for chunk in pd.read_csv(file_path, sep='|', header=None, names=columns, chunksize=chunk_size, encoding='utf-8'):\n",
    "        print(f\"{os.path.basename(file_path)} - 청크 {chunk_num} 처리 중...\")\n",
    "        chunk_num += 1\n",
    "\n",
    "        chunk = set_df(chunk)\n",
    "        processed_chunk = get_orderby_car_number(chunk, busro)\n",
    "\n",
    "        mode = 'w' if is_first_chunk else 'a'\n",
    "        header_flag = is_first_chunk\n",
    "        processed_chunk[['LNG', 'LAT', 'Information_Occurrence', 'Car_RegistrationNumber']].to_csv(output_path, index=False, encoding=\"cp949\", mode=mode, header=header_flag)\n",
    "        is_first_chunk = False\n",
    "\n",
    "        del chunk, processed_chunk\n",
    "        gc.collect()\n",
    "\n",
    "    print(f\"파일 처리 및 저장 완료: {output_path}\")"
   ]
  },
  {
   "cell_type": "code",
   "execution_count": 6,
   "metadata": {},
   "outputs": [
    {
     "name": "stdout",
     "output_type": "stream",
     "text": [
      "파일 처리 시작: ./data\\1월_gz\\DTG-r-00000.gz\n",
      "DTG-r-00000.gz - 청크 1 처리 중...\n",
      "DTG-r-00000.gz - 청크 2 처리 중...\n",
      "DTG-r-00000.gz - 청크 3 처리 중...\n",
      "DTG-r-00000.gz - 청크 4 처리 중...\n",
      "DTG-r-00000.gz - 청크 5 처리 중...\n",
      "DTG-r-00000.gz - 청크 6 처리 중...\n",
      "DTG-r-00000.gz - 청크 7 처리 중...\n",
      "DTG-r-00000.gz - 청크 8 처리 중...\n",
      "DTG-r-00000.gz - 청크 9 처리 중...\n",
      "DTG-r-00000.gz - 청크 10 처리 중...\n",
      "DTG-r-00000.gz - 청크 11 처리 중...\n",
      "DTG-r-00000.gz - 청크 12 처리 중...\n"
     ]
    },
    {
     "ename": "KeyboardInterrupt",
     "evalue": "",
     "output_type": "error",
     "traceback": [
      "\u001b[1;31m---------------------------------------------------------------------------\u001b[0m",
      "\u001b[1;31mKeyboardInterrupt\u001b[0m                         Traceback (most recent call last)",
      "Cell \u001b[1;32mIn[6], line 22\u001b[0m\n\u001b[0;32m     18\u001b[0m     \u001b[38;5;28mprint\u001b[39m(\u001b[38;5;124m\"\u001b[39m\u001b[38;5;124m모든 파일 처리 완료! 결과는 각 폴더별 *_output_map에 저장되었습니다.\u001b[39m\u001b[38;5;124m\"\u001b[39m)\n\u001b[0;32m     21\u001b[0m \u001b[38;5;28;01mif\u001b[39;00m \u001b[38;5;18m__name__\u001b[39m \u001b[38;5;241m==\u001b[39m \u001b[38;5;124m\"\u001b[39m\u001b[38;5;124m__main__\u001b[39m\u001b[38;5;124m\"\u001b[39m:\n\u001b[1;32m---> 22\u001b[0m     \u001b[43mmain\u001b[49m\u001b[43m(\u001b[49m\u001b[43m)\u001b[49m\n",
      "Cell \u001b[1;32mIn[6], line 16\u001b[0m, in \u001b[0;36mmain\u001b[1;34m()\u001b[0m\n\u001b[0;32m     13\u001b[0m     parent_folder_name \u001b[38;5;241m=\u001b[39m os\u001b[38;5;241m.\u001b[39mpath\u001b[38;5;241m.\u001b[39mbasename(os\u001b[38;5;241m.\u001b[39mpath\u001b[38;5;241m.\u001b[39mdirname(file_path))\n\u001b[0;32m     14\u001b[0m     output_folder \u001b[38;5;241m=\u001b[39m \u001b[38;5;124mf\u001b[39m\u001b[38;5;124m\"\u001b[39m\u001b[38;5;124m./\u001b[39m\u001b[38;5;132;01m{\u001b[39;00mparent_folder_name\u001b[38;5;132;01m}\u001b[39;00m\u001b[38;5;124m_output_map\u001b[39m\u001b[38;5;124m\"\u001b[39m\n\u001b[1;32m---> 16\u001b[0m     \u001b[43mprocess_file\u001b[49m\u001b[43m(\u001b[49m\u001b[43mfile_path\u001b[49m\u001b[43m,\u001b[49m\u001b[43m \u001b[49m\u001b[43mbusro\u001b[49m\u001b[43m,\u001b[49m\u001b[43m \u001b[49m\u001b[43mmemory_limit\u001b[49m\u001b[43m,\u001b[49m\u001b[43m \u001b[49m\u001b[43moutput_folder\u001b[49m\u001b[43m)\u001b[49m\n\u001b[0;32m     18\u001b[0m \u001b[38;5;28mprint\u001b[39m(\u001b[38;5;124m\"\u001b[39m\u001b[38;5;124m모든 파일 처리 완료! 결과는 각 폴더별 *_output_map에 저장되었습니다.\u001b[39m\u001b[38;5;124m\"\u001b[39m)\n",
      "Cell \u001b[1;32mIn[5], line 21\u001b[0m, in \u001b[0;36mprocess_file\u001b[1;34m(file_path, busro, memory_limit, output_folder)\u001b[0m\n\u001b[0;32m     18\u001b[0m chunk_num \u001b[38;5;241m+\u001b[39m\u001b[38;5;241m=\u001b[39m \u001b[38;5;241m1\u001b[39m\n\u001b[0;32m     20\u001b[0m chunk \u001b[38;5;241m=\u001b[39m set_df(chunk)\n\u001b[1;32m---> 21\u001b[0m processed_chunk \u001b[38;5;241m=\u001b[39m \u001b[43mget_orderby_car_number\u001b[49m\u001b[43m(\u001b[49m\u001b[43mchunk\u001b[49m\u001b[43m,\u001b[49m\u001b[43m \u001b[49m\u001b[43mbusro\u001b[49m\u001b[43m)\u001b[49m\n\u001b[0;32m     23\u001b[0m mode \u001b[38;5;241m=\u001b[39m \u001b[38;5;124m'\u001b[39m\u001b[38;5;124mw\u001b[39m\u001b[38;5;124m'\u001b[39m \u001b[38;5;28;01mif\u001b[39;00m is_first_chunk \u001b[38;5;28;01melse\u001b[39;00m \u001b[38;5;124m'\u001b[39m\u001b[38;5;124ma\u001b[39m\u001b[38;5;124m'\u001b[39m\n\u001b[0;32m     24\u001b[0m header_flag \u001b[38;5;241m=\u001b[39m is_first_chunk\n",
      "Cell \u001b[1;32mIn[3], line 4\u001b[0m, in \u001b[0;36mget_orderby_car_number\u001b[1;34m(df, route, threshold)\u001b[0m\n\u001b[0;32m      2\u001b[0m bus_stops \u001b[38;5;241m=\u001b[39m route[[\u001b[38;5;124m'\u001b[39m\u001b[38;5;124mLNG\u001b[39m\u001b[38;5;124m'\u001b[39m, \u001b[38;5;124m'\u001b[39m\u001b[38;5;124mLAT\u001b[39m\u001b[38;5;124m'\u001b[39m]]\u001b[38;5;241m.\u001b[39mvalues\n\u001b[0;32m      3\u001b[0m coords \u001b[38;5;241m=\u001b[39m df[[\u001b[38;5;124m'\u001b[39m\u001b[38;5;124mLNG\u001b[39m\u001b[38;5;124m'\u001b[39m, \u001b[38;5;124m'\u001b[39m\u001b[38;5;124mLAT\u001b[39m\u001b[38;5;124m'\u001b[39m]]\u001b[38;5;241m.\u001b[39mvalues\n\u001b[1;32m----> 4\u001b[0m dist_mat \u001b[38;5;241m=\u001b[39m \u001b[43mdistance_matrix\u001b[49m\u001b[43m(\u001b[49m\u001b[43mcoords\u001b[49m\u001b[43m,\u001b[49m\u001b[43m \u001b[49m\u001b[43mbus_stops\u001b[49m\u001b[43m)\u001b[49m\n\u001b[0;32m      5\u001b[0m min_dist_array \u001b[38;5;241m=\u001b[39m dist_mat\u001b[38;5;241m.\u001b[39mmin(axis\u001b[38;5;241m=\u001b[39m\u001b[38;5;241m1\u001b[39m)\n\u001b[0;32m      6\u001b[0m df[\u001b[38;5;124m'\u001b[39m\u001b[38;5;124mbus_stop\u001b[39m\u001b[38;5;124m'\u001b[39m] \u001b[38;5;241m=\u001b[39m min_dist_array \u001b[38;5;241m<\u001b[39m\u001b[38;5;241m=\u001b[39m threshold\n",
      "File \u001b[1;32mc:\\Users\\Admin\\AppData\\Local\\Programs\\Python\\Python312\\Lib\\site-packages\\scipy\\spatial\\_kdtree.py:919\u001b[0m, in \u001b[0;36mdistance_matrix\u001b[1;34m(x, y, p, threshold)\u001b[0m\n\u001b[0;32m    917\u001b[0m \u001b[38;5;28;01melse\u001b[39;00m:\n\u001b[0;32m    918\u001b[0m     \u001b[38;5;28;01mfor\u001b[39;00m j \u001b[38;5;129;01min\u001b[39;00m \u001b[38;5;28mrange\u001b[39m(n):\n\u001b[1;32m--> 919\u001b[0m         result[:,j] \u001b[38;5;241m=\u001b[39m minkowski_distance(x,y[j],p)\n\u001b[0;32m    920\u001b[0m \u001b[38;5;28;01mreturn\u001b[39;00m result\n",
      "\u001b[1;31mKeyboardInterrupt\u001b[0m: "
     ]
    }
   ],
   "source": [
    "def main():\n",
    "    busro = pd.read_csv(\"./bus_route_specific.csv\", encoding='cp949')\n",
    "    root = \"./data\"\n",
    "\n",
    "    # 처음 스캔 시 파일 리스트 저장\n",
    "    files = [os.path.join(path, name) for path, _, file_list in os.walk(root) for name in file_list]\n",
    "\n",
    "    total_memory = psutil.virtual_memory().available\n",
    "    memory_limit = total_memory * 0.05  # 각 파일 처리 시 메모리 제한\n",
    "\n",
    "    for file_path in files:\n",
    "        # 파일 경로에서 상위 폴더 이름 추출\n",
    "        parent_folder_name = os.path.basename(os.path.dirname(file_path))\n",
    "        output_folder = f\"./{parent_folder_name}_output_map\"\n",
    "\n",
    "        process_file(file_path, busro, memory_limit, output_folder)\n",
    "\n",
    "    print(\"모든 파일 처리 완료! 결과는 각 폴더별 *_output_map에 저장되었습니다.\")\n",
    "\n",
    "\n",
    "if __name__ == \"__main__\":\n",
    "    main()\n",
    "\n"
   ]
  },
  {
   "cell_type": "code",
   "execution_count": null,
   "metadata": {},
   "outputs": [],
   "source": []
  }
 ],
 "metadata": {
  "kernelspec": {
   "display_name": "Python 3",
   "language": "python",
   "name": "python3"
  },
  "language_info": {
   "codemirror_mode": {
    "name": "ipython",
    "version": 3
   },
   "file_extension": ".py",
   "mimetype": "text/x-python",
   "name": "python",
   "nbconvert_exporter": "python",
   "pygments_lexer": "ipython3",
   "version": "3.12.2"
  }
 },
 "nbformat": 4,
 "nbformat_minor": 4
}
